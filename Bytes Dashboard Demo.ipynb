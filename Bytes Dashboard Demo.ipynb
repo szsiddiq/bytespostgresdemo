{
 "cells": [
  {
   "cell_type": "code",
   "execution_count": null,
   "id": "b24dd4f2",
   "metadata": {},
   "outputs": [],
   "source": [
    "!pip install ipython-sql"
   ]
  },
  {
   "cell_type": "code",
   "execution_count": null,
   "id": "a403c53f",
   "metadata": {},
   "outputs": [],
   "source": [
    "import psycopg2\n",
    "import boto3\n",
    "import json\n",
    "import pandas as pd\n",
    "import numpy as np\n",
    "import random"
   ]
  },
  {
   "cell_type": "code",
   "execution_count": null,
   "id": "3f777505",
   "metadata": {},
   "outputs": [],
   "source": [
    "%load_ext sql\n",
    "client = boto3.client('secretsmanager')\n",
    "secrets=client.get_secret_value(SecretId='<Insert your AWS secret for your RDS db here')\n",
    "PGUSER=json.loads(secrets['SecretString'])['username']\n",
    "PGPASSWORD=json.loads(secrets['SecretString'])['password']\n",
    "PGHOST = '<Insert your host name here>'\n",
    "PGDATABASE = 'postgres'\n",
    "connectString=f'postgresql://{PGUSER}:{PGPASSWORD}@{PGHOST}/{PGDATABASE}'\n",
    "%sql $connectString"
   ]
  },
  {
   "cell_type": "markdown",
   "id": "dbee516f",
   "metadata": {},
   "source": [
    "# Generate Random Creator and Video Data"
   ]
  },
  {
   "cell_type": "markdown",
   "id": "f017dae8",
   "metadata": {},
   "source": [
    "## Creators"
   ]
  },
  {
   "cell_type": "markdown",
   "id": "9d290c18",
   "metadata": {},
   "source": [
    "### Name Generator\n",
    "\n",
    "The code below takes in names from [NYC public data](https://catalog.data.gov/dataset/popular-baby-names/resource/02e8f55e-2157-4cb2-961a-2aabb75cbc8b), creates random pairings and ensures there are no duplicates"
   ]
  },
  {
   "cell_type": "code",
   "execution_count": null,
   "id": "3691575e",
   "metadata": {},
   "outputs": [],
   "source": [
    "numCreators=10000 #Use this to define the number of creators to make"
   ]
  },
  {
   "cell_type": "code",
   "execution_count": 56,
   "id": "03687c70",
   "metadata": {},
   "outputs": [],
   "source": [
    "names=pd.read_csv('Popular_Baby_Names.csv') \n",
    "nameList=names[\"Child's First Name\"].str.title().unique()\n",
    "nameListFinal=[]\n",
    "for i in range(0,numCreators):\n",
    "    dup=True\n",
    "    while dup==True:\n",
    "        name=random.choice(nameList)+' '+random.choice(nameList)\n",
    "        if name not in nameListFinal:\n",
    "            nameListFinal.append(name)\n",
    "            dup=False"
   ]
  },
  {
   "cell_type": "markdown",
   "id": "fb72f0b9",
   "metadata": {},
   "source": [
    "### Creator Table\n",
    "Using the data above, we'll make a \"creators\" table with the following additional fields:\n",
    "    \n",
    "    * name: created from the list above\n",
    "    * creator_country_code: randomly assigned from the top 30 most populous countries\n",
    "    * creator_category: randomly assigned from 8 pre-defined categories\n",
    "    * followers: randomly generated\n",
    "    * views: randomly generated\n",
    "    * comments: randomly generated\n",
    "    * videos: randomly generated    "
   ]
  },
  {
   "cell_type": "code",
   "execution_count": 57,
   "id": "de37a36d",
   "metadata": {},
   "outputs": [],
   "source": [
    "creators=pd.DataFrame(range(1,numCreators+1),columns=['creator_id'])"
   ]
  },
  {
   "cell_type": "code",
   "execution_count": 58,
   "id": "4b8d4fe7",
   "metadata": {},
   "outputs": [],
   "source": [
    "creators['name']=nameListFinal\n"
   ]
  },
  {
   "cell_type": "code",
   "execution_count": 59,
   "id": "cf99e5a2",
   "metadata": {},
   "outputs": [],
   "source": [
    "countries=['CN','IN','US','ID','PK','BR','NG','BD','RU','MX'\n",
    "            ,'JP','ET','PH','EG','VN','CD','TR','IR','DE','TH'\n",
    "            ,'GB','FR','IT','TZ','ZA','MM','KE','KR','CO','AR','UG']\n",
    "creators['creator_country_code']=np.random.choice(countries, size=len(creators))"
   ]
  },
  {
   "cell_type": "code",
   "execution_count": 60,
   "id": "db20a72d",
   "metadata": {},
   "outputs": [],
   "source": [
    "categories=['Politics','Celebrity','Gaming','Lifestyle','Travel','Food','Comedy','Sports']\n",
    "creators['creator_category']=np.random.choice(categories, size=len(creators))"
   ]
  },
  {
   "cell_type": "code",
   "execution_count": 61,
   "id": "e706c2dc",
   "metadata": {},
   "outputs": [],
   "source": [
    "creators['followers']=(10000000*np.random.rand(1,numCreators)[0]).round()\n",
    "creators['views']=(10000000000*np.random.rand(1,numCreators)[0]).round()\n",
    "creators['comments']=(1000000*np.random.rand(1,numCreators)[0]).round()\n",
    "creators['videos']=(100*np.random.rand(1,numCreators)[0]).round()\n"
   ]
  },
  {
   "cell_type": "markdown",
   "id": "557c2989",
   "metadata": {},
   "source": [
    "### Upload to Postgres\n",
    "Uploaded the dataframe to postgres and created an index on the creator_id for fast recall."
   ]
  },
  {
   "cell_type": "code",
   "execution_count": 63,
   "id": "b9352eeb",
   "metadata": {},
   "outputs": [
    {
     "name": "stdout",
     "output_type": "stream",
     "text": []
    },
    {
     "data": {
      "text/plain": [
       "[]"
      ]
     },
     "execution_count": 63,
     "metadata": {},
     "output_type": "execute_result"
    }
   ],
   "source": [
    "%sql drop table if exists creators CASCADE;\n",
    "%sql --persist creators\n",
    "%sql alter table creators drop column index;\n",
    "%sql create index on creators (creator_id);"
   ]
  },
  {
   "cell_type": "code",
   "execution_count": 47,
   "id": "68baf9a2",
   "metadata": {},
   "outputs": [
    {
     "name": "stdout",
     "output_type": "stream",
     "text": [
      "Done.\n",
      "10000 rows affected.\n"
     ]
    },
    {
     "data": {
      "text/plain": [
       "[]"
      ]
     },
     "execution_count": 47,
     "metadata": {},
     "output_type": "execute_result"
    }
   ],
   "source": [
    "##Originally attempted this is SQL, but became too messy. Saved for reference\n",
    "##%%sql\n",
    "##drop table if exists creators CASCADE;\n",
    "##create table creators as\n",
    "##SELECT \n",
    "##     creator_id\n",
    "##    ,(array['CN','IN','US','ID','PK','BR','NG','BD','RU','MX'\n",
    "##            ,'JP','ET','PH','EG','VN','CD','TR','IR','DE','TH'\n",
    "##            ,'GB','FR','IT','TZ','ZA','MM','KE','KR','CO','AR','UG'])[floor(random() * 3 + 1)] country_code\n",
    "##    ,(array['Politics','Celebrity','Gaming','Lifestyle','Travel','Food','Comedy','Sports'])[floor(random() * 3 + 1)] category    \n",
    "##    ,round(random()*10000000)::INT  followers\n",
    "##    ,round(random()*100000000)::INT  views\n",
    "##    ,round(random()*1000000)::INT  comments\n",
    "##    ,round(random()*100)::INT videos\n",
    "##FROM generate_series(1, 10000) as t(creator_id)\n",
    "##;"
   ]
  },
  {
   "cell_type": "code",
   "execution_count": 107,
   "id": "1b942e2c",
   "metadata": {},
   "outputs": [
    {
     "name": "stdout",
     "output_type": "stream",
     "text": [
      "10 rows affected.\n"
     ]
    },
    {
     "data": {
      "text/html": [
       "<table>\n",
       "    <thead>\n",
       "        <tr>\n",
       "            <th>creator_id</th>\n",
       "            <th>name</th>\n",
       "            <th>creator_country_code</th>\n",
       "            <th>creator_category</th>\n",
       "            <th>followers</th>\n",
       "            <th>views</th>\n",
       "            <th>comments</th>\n",
       "            <th>videos</th>\n",
       "        </tr>\n",
       "    </thead>\n",
       "    <tbody>\n",
       "        <tr>\n",
       "            <td>1</td>\n",
       "            <td>Gitty Anne</td>\n",
       "            <td>BD</td>\n",
       "            <td>Sports</td>\n",
       "            <td>4419215.0</td>\n",
       "            <td>61983182.0</td>\n",
       "            <td>689203.0</td>\n",
       "            <td>14.0</td>\n",
       "        </tr>\n",
       "        <tr>\n",
       "            <td>2</td>\n",
       "            <td>Yisroel Messiah</td>\n",
       "            <td>CO</td>\n",
       "            <td>Comedy</td>\n",
       "            <td>3488777.0</td>\n",
       "            <td>34782627.0</td>\n",
       "            <td>51256.0</td>\n",
       "            <td>48.0</td>\n",
       "        </tr>\n",
       "        <tr>\n",
       "            <td>3</td>\n",
       "            <td>Sean Brynn</td>\n",
       "            <td>KR</td>\n",
       "            <td>Lifestyle</td>\n",
       "            <td>621140.0</td>\n",
       "            <td>83891267.0</td>\n",
       "            <td>659423.0</td>\n",
       "            <td>40.0</td>\n",
       "        </tr>\n",
       "        <tr>\n",
       "            <td>4</td>\n",
       "            <td>Avraham Anthony</td>\n",
       "            <td>UG</td>\n",
       "            <td>Food</td>\n",
       "            <td>307605.0</td>\n",
       "            <td>64532522.0</td>\n",
       "            <td>90337.0</td>\n",
       "            <td>98.0</td>\n",
       "        </tr>\n",
       "        <tr>\n",
       "            <td>5</td>\n",
       "            <td>Pinchas Isabel</td>\n",
       "            <td>TH</td>\n",
       "            <td>Travel</td>\n",
       "            <td>6296997.0</td>\n",
       "            <td>56199950.0</td>\n",
       "            <td>670438.0</td>\n",
       "            <td>71.0</td>\n",
       "        </tr>\n",
       "        <tr>\n",
       "            <td>6</td>\n",
       "            <td>Mackenzie Christian</td>\n",
       "            <td>CO</td>\n",
       "            <td>Food</td>\n",
       "            <td>825613.0</td>\n",
       "            <td>80138547.0</td>\n",
       "            <td>621399.0</td>\n",
       "            <td>51.0</td>\n",
       "        </tr>\n",
       "        <tr>\n",
       "            <td>7</td>\n",
       "            <td>Jesse Muhammad</td>\n",
       "            <td>EG</td>\n",
       "            <td>Travel</td>\n",
       "            <td>4086099.0</td>\n",
       "            <td>58640990.0</td>\n",
       "            <td>439422.0</td>\n",
       "            <td>22.0</td>\n",
       "        </tr>\n",
       "        <tr>\n",
       "            <td>8</td>\n",
       "            <td>Julianna Hope</td>\n",
       "            <td>IT</td>\n",
       "            <td>Food</td>\n",
       "            <td>9393573.0</td>\n",
       "            <td>97815107.0</td>\n",
       "            <td>138454.0</td>\n",
       "            <td>81.0</td>\n",
       "        </tr>\n",
       "        <tr>\n",
       "            <td>9</td>\n",
       "            <td>Carmen Judah</td>\n",
       "            <td>PK</td>\n",
       "            <td>Celebrity</td>\n",
       "            <td>83155.0</td>\n",
       "            <td>96678901.0</td>\n",
       "            <td>721297.0</td>\n",
       "            <td>47.0</td>\n",
       "        </tr>\n",
       "        <tr>\n",
       "            <td>10</td>\n",
       "            <td>Pinchus Kayla</td>\n",
       "            <td>CD</td>\n",
       "            <td>Lifestyle</td>\n",
       "            <td>1224307.0</td>\n",
       "            <td>64190752.0</td>\n",
       "            <td>149065.0</td>\n",
       "            <td>97.0</td>\n",
       "        </tr>\n",
       "    </tbody>\n",
       "</table>"
      ],
      "text/plain": [
       "[(1, 'Gitty Anne', 'BD', 'Sports', 4419215.0, 61983182.0, 689203.0, 14.0),\n",
       " (2, 'Yisroel Messiah', 'CO', 'Comedy', 3488777.0, 34782627.0, 51256.0, 48.0),\n",
       " (3, 'Sean Brynn', 'KR', 'Lifestyle', 621140.0, 83891267.0, 659423.0, 40.0),\n",
       " (4, 'Avraham Anthony', 'UG', 'Food', 307605.0, 64532522.0, 90337.0, 98.0),\n",
       " (5, 'Pinchas Isabel', 'TH', 'Travel', 6296997.0, 56199950.0, 670438.0, 71.0),\n",
       " (6, 'Mackenzie Christian', 'CO', 'Food', 825613.0, 80138547.0, 621399.0, 51.0),\n",
       " (7, 'Jesse Muhammad', 'EG', 'Travel', 4086099.0, 58640990.0, 439422.0, 22.0),\n",
       " (8, 'Julianna Hope', 'IT', 'Food', 9393573.0, 97815107.0, 138454.0, 81.0),\n",
       " (9, 'Carmen Judah', 'PK', 'Celebrity', 83155.0, 96678901.0, 721297.0, 47.0),\n",
       " (10, 'Pinchus Kayla', 'CD', 'Lifestyle', 1224307.0, 64190752.0, 149065.0, 97.0)]"
      ]
     },
     "execution_count": 107,
     "metadata": {},
     "output_type": "execute_result"
    }
   ],
   "source": [
    "%%sql\n",
    "select\n",
    "*\n",
    "from\n",
    "creators\n",
    "limit 10"
   ]
  },
  {
   "cell_type": "markdown",
   "id": "743011e0",
   "metadata": {},
   "source": [
    "## Videos\n",
    "Fields:\n",
    "\n",
    "    - video_id\n",
    "    - creator_id\n",
    "    - video_length_seconds "
   ]
  },
  {
   "cell_type": "code",
   "execution_count": 14,
   "id": "6835c7cb",
   "metadata": {},
   "outputs": [],
   "source": [
    "numVideos=100000 #Use this to set the number of videos you want to create. 100k took about 20-30minutes on my setupvideo_length_seconds"
   ]
  },
  {
   "cell_type": "code",
   "execution_count": 15,
   "id": "668337e9",
   "metadata": {},
   "outputs": [
    {
     "name": "stdout",
     "output_type": "stream",
     "text": [
      "Done.\n",
      "100000 rows affected.\n"
     ]
    },
    {
     "data": {
      "text/plain": [
       "[]"
      ]
     },
     "execution_count": 15,
     "metadata": {},
     "output_type": "execute_result"
    }
   ],
   "source": [
    "%%sql\n",
    "drop table if exists videos;\n",
    "create table videos as\n",
    "SELECT \n",
    "     video_id\n",
    "    ,round(random()*10000)::INT creator_id\n",
    "    ,(120*random())::INT video_length_seconds\n",
    "FROM \n",
    "    generate_series(1, :numVideos) as t(video_id)   \n",
    ";\n",
    "\n"
   ]
  },
  {
   "cell_type": "code",
   "execution_count": 19,
   "id": "bd7fca7e",
   "metadata": {},
   "outputs": [
    {
     "name": "stdout",
     "output_type": "stream",
     "text": [
      "10 rows affected.\n"
     ]
    },
    {
     "data": {
      "text/html": [
       "<table>\n",
       "    <thead>\n",
       "        <tr>\n",
       "            <th>video_id</th>\n",
       "            <th>creator_id</th>\n",
       "            <th>video_length_seconds</th>\n",
       "        </tr>\n",
       "    </thead>\n",
       "    <tbody>\n",
       "        <tr>\n",
       "            <td>1</td>\n",
       "            <td>6019</td>\n",
       "            <td>24</td>\n",
       "        </tr>\n",
       "        <tr>\n",
       "            <td>2</td>\n",
       "            <td>8009</td>\n",
       "            <td>58</td>\n",
       "        </tr>\n",
       "        <tr>\n",
       "            <td>3</td>\n",
       "            <td>724</td>\n",
       "            <td>99</td>\n",
       "        </tr>\n",
       "        <tr>\n",
       "            <td>4</td>\n",
       "            <td>5591</td>\n",
       "            <td>2</td>\n",
       "        </tr>\n",
       "        <tr>\n",
       "            <td>5</td>\n",
       "            <td>7703</td>\n",
       "            <td>33</td>\n",
       "        </tr>\n",
       "        <tr>\n",
       "            <td>6</td>\n",
       "            <td>8490</td>\n",
       "            <td>118</td>\n",
       "        </tr>\n",
       "        <tr>\n",
       "            <td>7</td>\n",
       "            <td>5212</td>\n",
       "            <td>112</td>\n",
       "        </tr>\n",
       "        <tr>\n",
       "            <td>8</td>\n",
       "            <td>5689</td>\n",
       "            <td>15</td>\n",
       "        </tr>\n",
       "        <tr>\n",
       "            <td>9</td>\n",
       "            <td>1248</td>\n",
       "            <td>10</td>\n",
       "        </tr>\n",
       "        <tr>\n",
       "            <td>10</td>\n",
       "            <td>9796</td>\n",
       "            <td>24</td>\n",
       "        </tr>\n",
       "    </tbody>\n",
       "</table>"
      ],
      "text/plain": [
       "[(1, 6019, 24),\n",
       " (2, 8009, 58),\n",
       " (3, 724, 99),\n",
       " (4, 5591, 2),\n",
       " (5, 7703, 33),\n",
       " (6, 8490, 118),\n",
       " (7, 5212, 112),\n",
       " (8, 5689, 15),\n",
       " (9, 1248, 10),\n",
       " (10, 9796, 24)]"
      ]
     },
     "execution_count": 19,
     "metadata": {},
     "output_type": "execute_result"
    }
   ],
   "source": [
    "%%sql\n",
    "select * from videos\n",
    "limit 10"
   ]
  },
  {
   "cell_type": "markdown",
   "id": "65e2caf8",
   "metadata": {},
   "source": [
    "## Time Variations\n",
    "\n",
    "In order to add some random variability, we'll create a monthly multiplier using historical NASDAQ data"
   ]
  },
  {
   "cell_type": "code",
   "execution_count": 22,
   "id": "d4a2be11",
   "metadata": {},
   "outputs": [],
   "source": [
    "# Set the start and end dates\n",
    "nasdStart='2022-01-01'\n",
    "nasdEnd=pd.to_datetime('today').strftime('%Y-%m-%d') #Today's date"
   ]
  },
  {
   "cell_type": "code",
   "execution_count": null,
   "id": "d634e192",
   "metadata": {},
   "outputs": [],
   "source": [
    "!pip install yfinance"
   ]
  },
  {
   "cell_type": "code",
   "execution_count": 19,
   "id": "d6b69b7a",
   "metadata": {},
   "outputs": [],
   "source": [
    "import yfinance as yf\n",
    "import pandas as pd\n",
    "import matplotlib.pyplot as plt\n"
   ]
  },
  {
   "cell_type": "code",
   "execution_count": 24,
   "id": "c2b4102f",
   "metadata": {},
   "outputs": [
    {
     "name": "stdout",
     "output_type": "stream",
     "text": [
      "[*********************100%%**********************]  1 of 1 completed\n",
      "                    Open          High           Low         Close  \\\n",
      "Date                                                                 \n",
      "2022-01-03  15732.500000  15832.799805  15644.089844  15832.799805   \n",
      "2022-01-04  15852.139648  15852.139648  15512.410156  15622.719727   \n",
      "2022-01-05  15547.160156  15586.299805  15095.179688  15100.169922   \n",
      "2022-01-06  15024.150391  15198.450195  14914.870117  15080.860352   \n",
      "2022-01-07  15095.719727  15171.019531  14877.629883  14935.900391   \n",
      "...                  ...           ...           ...           ...   \n",
      "2023-11-09  13693.700195  13697.820312  13506.019531  13521.450195   \n",
      "2023-11-10  13571.190430  13802.530273  13556.349609  13798.110352   \n",
      "2023-11-13  13745.959961  13805.110352  13687.780273  13767.740234   \n",
      "2023-11-14  14015.370117  14124.059570  14003.139648  14094.379883   \n",
      "2023-11-15  14147.269531  14194.360352  14060.700195  14103.839844   \n",
      "\n",
      "               Adj Close      Volume  \n",
      "Date                                  \n",
      "2022-01-03  15832.799805  4429960000  \n",
      "2022-01-04  15622.719727  5131110000  \n",
      "2022-01-05  15100.169922  5031850000  \n",
      "2022-01-06  15080.860352  4790820000  \n",
      "2022-01-07  14935.900391  4238070000  \n",
      "...                  ...         ...  \n",
      "2023-11-09  13521.450195  5313970000  \n",
      "2023-11-10  13798.110352  4722140000  \n",
      "2023-11-13  13767.740234  4349590000  \n",
      "2023-11-14  14094.379883  5332490000  \n",
      "2023-11-15  14103.839844  5063830000  \n",
      "\n",
      "[471 rows x 6 columns]\n"
     ]
    },
    {
     "data": {
      "image/png": "[encoded data removed]",
      "text/plain": [
       "<Figure size 1000x600 with 1 Axes>"
      ]
     },
     "metadata": {},
     "output_type": "display_data"
    }
   ],
   "source": [
    "# Define the stock symbol (Nasdaq Composite Index)\n",
    "stock_symbol = '^IXIC'\n",
    "\n",
    "# Download historical data\n",
    "nasd_multipiers = yf.download(stock_symbol, start=nasdStart, end=nasdEnd)\n",
    "\n",
    "# Display the data\n",
    "print(nasd_multipiers)\n",
    "\n",
    "# Plot the closing prices\n",
    "nasd_multipiers['Close'].plot(figsize=(10, 6), title='Nasdaq Composite Index Daily Closing Prices')\n",
    "plt.xlabel('Date')\n",
    "plt.ylabel('Closing Price')\n",
    "plt.show()"
   ]
  },
  {
   "cell_type": "code",
   "execution_count": 25,
   "id": "47cc0328",
   "metadata": {},
   "outputs": [],
   "source": [
    "nasd_multipiers=nasd_multipiers.reset_index()"
   ]
  },
  {
   "cell_type": "code",
   "execution_count": 26,
   "id": "972b6b8f",
   "metadata": {},
   "outputs": [],
   "source": [
    "nasd_multipiers['multiplier']=nasd_multipiers['Close']/nasd_multipiers['Close'].sum()"
   ]
  },
  {
   "cell_type": "code",
   "execution_count": 28,
   "id": "3c74b204",
   "metadata": {},
   "outputs": [
    {
     "name": "stdout",
     "output_type": "stream",
     "text": [
      "Done.\n"
     ]
    },
    {
     "data": {
      "text/plain": [
       "'Persisted nasd_multipiers'"
      ]
     },
     "execution_count": 28,
     "metadata": {},
     "output_type": "execute_result"
    }
   ],
   "source": [
    "%sql drop table if exists nasd_multipiers;\n",
    "%sql --persist nasd_multipiers"
   ]
  },
  {
   "cell_type": "code",
   "execution_count": 30,
   "id": "849bbe1a",
   "metadata": {},
   "outputs": [
    {
     "name": "stdout",
     "output_type": "stream",
     "text": [
      "Done.\n",
      "23 rows affected.\n"
     ]
    },
    {
     "data": {
      "text/plain": [
       "[]"
      ]
     },
     "execution_count": 30,
     "metadata": {},
     "output_type": "execute_result"
    }
   ],
   "source": [
    "%%sql\n",
    "drop table if exists nasd_multipiers_clean;\n",
    "create table nasd_multipiers_clean as\n",
    "select\n",
    "     date_trunc('month',nasd_multipiers.\"Date\"::date)::date as nasd_month\n",
    "    ,avg(multiplier) multiplier\n",
    "from \n",
    "    nasd_multipiers        \n",
    "where \n",
    "    nasd_multipiers.\"Date\"::date>=:nasdStart\n",
    "    and nasd_multipiers.\"Date\"::date<=:nasdEnd\n",
    "            \n",
    "group by 1"
   ]
  },
  {
   "cell_type": "markdown",
   "id": "423536ef",
   "metadata": {},
   "source": [
    "# Device and Container Distributions\n",
    "I wanted to add some dimensions and predefined distributions that would add more variability to that data: \n",
    "\n",
    "    - context -> Where in the app user viewed the video\n",
    "        - Feed: 60% of plays\n",
    "        - Creator Page: 30% of plays\n",
    "        - Other: 10% of plays\n",
    "    - platform -> The type of device the user viewed the video on\n",
    "        - Mobile: 70% of plays\n",
    "        - Web: 25% of plays\n",
    "        - Other: 5% of plays "
   ]
  },
  {
   "cell_type": "code",
   "execution_count": 20,
   "id": "21f75699",
   "metadata": {},
   "outputs": [
    {
     "name": "stdout",
     "output_type": "stream",
     "text": [
      "Done.\n",
      "3 rows affected.\n"
     ]
    },
    {
     "data": {
      "text/plain": [
       "[]"
      ]
     },
     "execution_count": 20,
     "metadata": {},
     "output_type": "execute_result"
    }
   ],
   "source": [
    "%%sql\n",
    "drop table if exists context;\n",
    "create table context as\n",
    "select *\n",
    "from\n",
    "(values ('Feed',.6),('Creator Page',.3),('Other',.1)) as c (context,context_distribution)  \n",
    ";\n"
   ]
  },
  {
   "cell_type": "code",
   "execution_count": 24,
   "id": "c5bb0bae",
   "metadata": {},
   "outputs": [
    {
     "name": "stdout",
     "output_type": "stream",
     "text": [
      "Done.\n",
      "3 rows affected.\n"
     ]
    },
    {
     "data": {
      "text/plain": [
       "[]"
      ]
     },
     "execution_count": 24,
     "metadata": {},
     "output_type": "execute_result"
    }
   ],
   "source": [
    "%%sql\n",
    "drop table if exists platform;\n",
    "create table platform as\n",
    "select *\n",
    "from\n",
    "(values ('Mobile',.7),('Web',.25),('Other',.05)) as c (platform,platform_distribution)  \n",
    ";\n"
   ]
  },
  {
   "cell_type": "markdown",
   "id": "32c6a51c",
   "metadata": {},
   "source": [
    "# Population Based Country Breakout\n",
    "\n",
    "I wanted to create geographic user breakouts and will make the count of users proportional to their populations. This data includes the top 30 countries by population. "
   ]
  },
  {
   "cell_type": "code",
   "execution_count": 119,
   "id": "40424acd",
   "metadata": {},
   "outputs": [
    {
     "name": "stdout",
     "output_type": "stream",
     "text": [
      "Done.\n",
      "31 rows affected.\n"
     ]
    },
    {
     "data": {
      "text/plain": [
       "[]"
      ]
     },
     "execution_count": 119,
     "metadata": {},
     "output_type": "execute_result"
    }
   ],
   "source": [
    "%%sql\n",
    "CREATE TABLE population_data (\n",
    "    country_code VARCHAR(2) PRIMARY KEY,\n",
    "    country_name VARCHAR(100) NOT NULL,\n",
    "    population INT NOT NULL\n",
    ");\n",
    "\n",
    "INSERT INTO population_data (country_code, country_name, population)\n",
    "VALUES \n",
    "    ('CN', 'China', 1444216107),\n",
    "    ('IN', 'India', 1393409038),\n",
    "    ('US', 'United States', 332915073),\n",
    "    ('ID', 'Indonesia', 276361783),\n",
    "    ('PK', 'Pakistan', 225199937),\n",
    "    ('BR', 'Brazil', 213993437),\n",
    "    ('NG', 'Nigeria', 211400708),\n",
    "    ('BD', 'Bangladesh', 166303498),\n",
    "    ('RU', 'Russia', 145912025),\n",
    "    ('MX', 'Mexico', 130262216),\n",
    "    ('JP', 'Japan', 125967216),\n",
    "    ('ET', 'Ethiopia', 120597588),\n",
    "    ('PH', 'Philippines', 113046910),\n",
    "    ('EG', 'Egypt', 106378138),\n",
    "    ('VN', 'Vietnam', 97490013),\n",
    "    ('CD', 'Democratic Republic of the Congo', 93069261),\n",
    "    ('TR', 'Turkey', 85042725),\n",
    "    ('IR', 'Iran', 84573843),\n",
    "    ('DE', 'Germany', 83783942),\n",
    "    ('TH', 'Thailand', 70051802),\n",
    "    ('GB', 'United Kingdom', 68207116),\n",
    "    ('FR', 'France', 65298930),\n",
    "    ('IT', 'Italy', 60367477),\n",
    "    ('TZ', 'Tanzania', 61731913),\n",
    "    ('ZA', 'South Africa', 60041935),\n",
    "    ('MM', 'Myanmar', 54841552),\n",
    "    ('KE', 'Kenya', 54814595),\n",
    "    ('KR', 'South Korea', 51269185),\n",
    "    ('CO', 'Colombia', 51397511),\n",
    "    ('AR', 'Argentina', 45575981),\n",
    "    ('UG', 'Uganda', 47189716);\n"
   ]
  },
  {
   "cell_type": "markdown",
   "id": "9afdc6da",
   "metadata": {},
   "source": [
    "# Create Daily Track Play Breakouts\n",
    "The table below takes the video fact table created above and cross joins it with the dimension tables created above to create a table with monthly stats for each video across each of the pre-defined dimensions. \n",
    "\n",
    "Fields:\n",
    "\n",
    "    - video_id\n",
    "    - viewer_country\n",
    "    - context\n",
    "    - platform\n",
    "    - plays\n",
    "    - comments\n",
    "    \n",
    "Table Attributes:\n",
    "\n",
    "    - 100k random videos\n",
    "    - 2 years of data\n",
    " "
   ]
  },
  {
   "cell_type": "code",
   "execution_count": null,
   "id": "89da87a3",
   "metadata": {},
   "outputs": [
    {
     "name": "stdout",
     "output_type": "stream",
     "text": [
      "Done.\n"
     ]
    }
   ],
   "source": [
    "%%sql\n",
    "drop table if exists monthly_video_plays;\n",
    "create table monthly_video_plays as\n",
    "select \n",
    "     t.video_id\n",
    "    ,t.creator_id\n",
    "    ,m.nasd_month playback_month \n",
    "    ,p.country_code viewer_country_code\n",
    "    ,c.context\n",
    "    ,d.platform\n",
    "    ,(p.population*d.platform_distribution*c.context_distribution*m.multiplier*random()) plays\n",
    "from\n",
    "    videos t\n",
    "    cross join nasd_multipiers_clean m\n",
    "    cross join population_data p\n",
    "    cross join context c\n",
    "    cross join platform d\n",
    "where \n",
    "    t.video_id<=:numVideos\n",
    ";"
   ]
  },
  {
   "cell_type": "markdown",
   "id": "e9955655",
   "metadata": {},
   "source": [
    "### Create Indexes\n",
    "In order to ensure fast recall and avoid full table scans, we'll index the table on the two fields we expect to filter on most frequent: video_id and creator_id. Depending on your use case and table design, you'll need to consider what fields you'll be filtering on most and create indexes to accomodate."
   ]
  },
  {
   "cell_type": "code",
   "execution_count": 45,
   "id": "c7d3c463",
   "metadata": {},
   "outputs": [
    {
     "name": "stdout",
     "output_type": "stream",
     "text": [
      "Done.\n"
     ]
    },
    {
     "data": {
      "text/plain": [
       "[]"
      ]
     },
     "execution_count": 45,
     "metadata": {},
     "output_type": "execute_result"
    }
   ],
   "source": [
    "%%sql \n",
    "create index on monthly_video_plays (video_id)"
   ]
  },
  {
   "cell_type": "code",
   "execution_count": null,
   "id": "98259c48",
   "metadata": {},
   "outputs": [
    {
     "name": "stdout",
     "output_type": "stream",
     "text": [
      "Done.\n"
     ]
    },
    {
     "data": {
      "text/plain": [
       "[]"
      ]
     },
     "execution_count": 115,
     "metadata": {},
     "output_type": "execute_result"
    }
   ],
   "source": [
    "%%sql \n",
    "create index on monthly_video_plays (creator_id)"
   ]
  },
  {
   "cell_type": "code",
   "execution_count": 32,
   "id": "2e4542a9",
   "metadata": {},
   "outputs": [
    {
     "name": "stdout",
     "output_type": "stream",
     "text": [
      "6417 rows affected.\n",
      "Returning data to local variable monthly_video_plays\n"
     ]
    }
   ],
   "source": [
    "%%sql monthly_video_plays <<\n",
    "select * from monthly_video_plays\n",
    "where video_id=30300"
   ]
  },
  {
   "cell_type": "code",
   "execution_count": 34,
   "id": "2c53fc9d",
   "metadata": {},
   "outputs": [],
   "source": [
    "monthly_video_plays=pd.DataFrame(monthly_video_plays)"
   ]
  },
  {
   "cell_type": "code",
   "execution_count": 35,
   "id": "b72c2014",
   "metadata": {},
   "outputs": [
    {
     "data": {
      "text/html": [
       "<div>\n",
       "<style scoped>\n",
       "    .dataframe tbody tr th:only-of-type {\n",
       "        vertical-align: middle;\n",
       "    }\n",
       "\n",
       "    .dataframe tbody tr th {\n",
       "        vertical-align: top;\n",
       "    }\n",
       "\n",
       "    .dataframe thead th {\n",
       "        text-align: right;\n",
       "    }\n",
       "</style>\n",
       "<table border=\"1\" class=\"dataframe\">\n",
       "  <thead>\n",
       "    <tr style=\"text-align: right;\">\n",
       "      <th></th>\n",
       "      <th>video_id</th>\n",
       "      <th>creator_id</th>\n",
       "      <th>playback_month</th>\n",
       "      <th>viewer_country_code</th>\n",
       "      <th>context</th>\n",
       "      <th>platform</th>\n",
       "      <th>plays</th>\n",
       "    </tr>\n",
       "  </thead>\n",
       "  <tbody>\n",
       "    <tr>\n",
       "      <th>0</th>\n",
       "      <td>30300</td>\n",
       "      <td>6859</td>\n",
       "      <td>2022-04-01</td>\n",
       "      <td>CN</td>\n",
       "      <td>Feed</td>\n",
       "      <td>Mobile</td>\n",
       "      <td>494082.688330</td>\n",
       "    </tr>\n",
       "    <tr>\n",
       "      <th>1</th>\n",
       "      <td>30300</td>\n",
       "      <td>6859</td>\n",
       "      <td>2022-09-01</td>\n",
       "      <td>CN</td>\n",
       "      <td>Feed</td>\n",
       "      <td>Mobile</td>\n",
       "      <td>514560.509606</td>\n",
       "    </tr>\n",
       "    <tr>\n",
       "      <th>2</th>\n",
       "      <td>30300</td>\n",
       "      <td>6859</td>\n",
       "      <td>2023-10-01</td>\n",
       "      <td>CN</td>\n",
       "      <td>Feed</td>\n",
       "      <td>Mobile</td>\n",
       "      <td>626961.833822</td>\n",
       "    </tr>\n",
       "    <tr>\n",
       "      <th>3</th>\n",
       "      <td>30300</td>\n",
       "      <td>6859</td>\n",
       "      <td>2022-07-01</td>\n",
       "      <td>CN</td>\n",
       "      <td>Feed</td>\n",
       "      <td>Mobile</td>\n",
       "      <td>170908.912250</td>\n",
       "    </tr>\n",
       "    <tr>\n",
       "      <th>4</th>\n",
       "      <td>30300</td>\n",
       "      <td>6859</td>\n",
       "      <td>2022-10-01</td>\n",
       "      <td>CN</td>\n",
       "      <td>Feed</td>\n",
       "      <td>Mobile</td>\n",
       "      <td>166376.737234</td>\n",
       "    </tr>\n",
       "    <tr>\n",
       "      <th>5</th>\n",
       "      <td>30300</td>\n",
       "      <td>6859</td>\n",
       "      <td>2022-11-01</td>\n",
       "      <td>CN</td>\n",
       "      <td>Feed</td>\n",
       "      <td>Mobile</td>\n",
       "      <td>302253.868917</td>\n",
       "    </tr>\n",
       "    <tr>\n",
       "      <th>6</th>\n",
       "      <td>30300</td>\n",
       "      <td>6859</td>\n",
       "      <td>2023-07-01</td>\n",
       "      <td>CN</td>\n",
       "      <td>Feed</td>\n",
       "      <td>Mobile</td>\n",
       "      <td>80835.025388</td>\n",
       "    </tr>\n",
       "    <tr>\n",
       "      <th>7</th>\n",
       "      <td>30300</td>\n",
       "      <td>6859</td>\n",
       "      <td>2023-08-01</td>\n",
       "      <td>CN</td>\n",
       "      <td>Feed</td>\n",
       "      <td>Mobile</td>\n",
       "      <td>578697.601129</td>\n",
       "    </tr>\n",
       "    <tr>\n",
       "      <th>8</th>\n",
       "      <td>30300</td>\n",
       "      <td>6859</td>\n",
       "      <td>2023-11-01</td>\n",
       "      <td>CN</td>\n",
       "      <td>Feed</td>\n",
       "      <td>Mobile</td>\n",
       "      <td>478104.278177</td>\n",
       "    </tr>\n",
       "    <tr>\n",
       "      <th>9</th>\n",
       "      <td>30300</td>\n",
       "      <td>6859</td>\n",
       "      <td>2022-02-01</td>\n",
       "      <td>CN</td>\n",
       "      <td>Feed</td>\n",
       "      <td>Mobile</td>\n",
       "      <td>202572.393772</td>\n",
       "    </tr>\n",
       "  </tbody>\n",
       "</table>\n",
       "</div>"
      ],
      "text/plain": [
       "   video_id  creator_id playback_month viewer_country_code context platform  \\\n",
       "0     30300        6859     2022-04-01                  CN    Feed   Mobile   \n",
       "1     30300        6859     2022-09-01                  CN    Feed   Mobile   \n",
       "2     30300        6859     2023-10-01                  CN    Feed   Mobile   \n",
       "3     30300        6859     2022-07-01                  CN    Feed   Mobile   \n",
       "4     30300        6859     2022-10-01                  CN    Feed   Mobile   \n",
       "5     30300        6859     2022-11-01                  CN    Feed   Mobile   \n",
       "6     30300        6859     2023-07-01                  CN    Feed   Mobile   \n",
       "7     30300        6859     2023-08-01                  CN    Feed   Mobile   \n",
       "8     30300        6859     2023-11-01                  CN    Feed   Mobile   \n",
       "9     30300        6859     2022-02-01                  CN    Feed   Mobile   \n",
       "\n",
       "           plays  \n",
       "0  494082.688330  \n",
       "1  514560.509606  \n",
       "2  626961.833822  \n",
       "3  170908.912250  \n",
       "4  166376.737234  \n",
       "5  302253.868917  \n",
       "6   80835.025388  \n",
       "7  578697.601129  \n",
       "8  478104.278177  \n",
       "9  202572.393772  "
      ]
     },
     "execution_count": 35,
     "metadata": {},
     "output_type": "execute_result"
    }
   ],
   "source": [
    "monthly_video_plays.head(10)"
   ]
  },
  {
   "cell_type": "code",
   "execution_count": 36,
   "id": "97d83ba0",
   "metadata": {},
   "outputs": [
    {
     "data": {
      "text/plain": [
       "6417"
      ]
     },
     "execution_count": 36,
     "metadata": {},
     "output_type": "execute_result"
    }
   ],
   "source": [
    "len(monthly_video_plays)"
   ]
  },
  {
   "cell_type": "code",
   "execution_count": 127,
   "id": "a3570ff8",
   "metadata": {},
   "outputs": [
    {
     "name": "stdout",
     "output_type": "stream",
     "text": [
      "1 rows affected.\n"
     ]
    },
    {
     "data": {
      "text/html": [
       "<table>\n",
       "    <thead>\n",
       "        <tr>\n",
       "            <th>pg_size_pretty</th>\n",
       "        </tr>\n",
       "    </thead>\n",
       "    <tbody>\n",
       "        <tr>\n",
       "            <td>41 GB</td>\n",
       "        </tr>\n",
       "    </tbody>\n",
       "</table>"
      ],
      "text/plain": [
       "[('41 GB',)]"
      ]
     },
     "execution_count": 127,
     "metadata": {},
     "output_type": "execute_result"
    }
   ],
   "source": [
    "%%sql\n",
    "select pg_size_pretty(pg_relation_size('monthly_video_plays'));"
   ]
  },
  {
   "cell_type": "markdown",
   "id": "dcb76b72",
   "metadata": {},
   "source": [
    "### Resulting Table Size\n",
    "Each video is 6417 rows, meaning the entire table is 641,700,000 rows and 41GB."
   ]
  },
  {
   "cell_type": "markdown",
   "id": "6719f5ed",
   "metadata": {},
   "source": [
    "## Creator Level Monthly Aggregate\n",
    "The table below aggregates that video level data to the creator level to enable us to display creator stats. "
   ]
  },
  {
   "cell_type": "code",
   "execution_count": null,
   "id": "ccc94390",
   "metadata": {},
   "outputs": [
    {
     "name": "stdout",
     "output_type": "stream",
     "text": [
      "Done.\n"
     ]
    }
   ],
   "source": [
    "%%sql \n",
    "drop table if exists creator_monthly_plays;\n",
    "create table creator_monthly_plays as\n",
    "select \n",
    "     creator_id\n",
    "    ,playback_month\n",
    "    ,viewer_country_code\n",
    "    ,platform\n",
    "    ,context\n",
    "    ,count(distinct video_id) videos\n",
    "    ,sum(plays) plays\n",
    "from monthly_video_plays\n",
    "group by 1,2,3,4,5\n"
   ]
  },
  {
   "cell_type": "code",
   "execution_count": null,
   "id": "f3abf5f7",
   "metadata": {},
   "outputs": [],
   "source": [
    "%sql create index on creator_monthly_plays (creator_id)"
   ]
  },
  {
   "cell_type": "code",
   "execution_count": 128,
   "id": "6537281f",
   "metadata": {},
   "outputs": [
    {
     "name": "stdout",
     "output_type": "stream",
     "text": [
      "1 rows affected.\n"
     ]
    },
    {
     "data": {
      "text/html": [
       "<table>\n",
       "    <thead>\n",
       "        <tr>\n",
       "            <th>pg_size_pretty</th>\n",
       "        </tr>\n",
       "    </thead>\n",
       "    <tbody>\n",
       "        <tr>\n",
       "            <td>4360 MB</td>\n",
       "        </tr>\n",
       "    </tbody>\n",
       "</table>"
      ],
      "text/plain": [
       "[('4360 MB',)]"
      ]
     },
     "execution_count": 128,
     "metadata": {},
     "output_type": "execute_result"
    }
   ],
   "source": [
    "%%sql\n",
    "select pg_size_pretty(pg_relation_size('creator_monthly_plays'));"
   ]
  },
  {
   "cell_type": "markdown",
   "id": "0ce19d6c",
   "metadata": {},
   "source": [
    "## Summary for most played videos\n",
    "Used as custom SQL in Tableau"
   ]
  },
  {
   "cell_type": "code",
   "execution_count": 13,
   "id": "1d7ca4d0",
   "metadata": {},
   "outputs": [
    {
     "name": "stdout",
     "output_type": "stream",
     "text": [
      "6 rows affected.\n"
     ]
    },
    {
     "data": {
      "text/html": [
       "<table>\n",
       "    <thead>\n",
       "        <tr>\n",
       "            <th>video_id</th>\n",
       "            <th>plays</th>\n",
       "        </tr>\n",
       "    </thead>\n",
       "    <tbody>\n",
       "        <tr>\n",
       "            <td>66811</td>\n",
       "            <td>95439814.56911525</td>\n",
       "        </tr>\n",
       "        <tr>\n",
       "            <td>41694</td>\n",
       "            <td>94001184.5151855</td>\n",
       "        </tr>\n",
       "        <tr>\n",
       "            <td>32684</td>\n",
       "            <td>93336604.17676324</td>\n",
       "        </tr>\n",
       "        <tr>\n",
       "            <td>3350</td>\n",
       "            <td>93069791.09934558</td>\n",
       "        </tr>\n",
       "        <tr>\n",
       "            <td>55217</td>\n",
       "            <td>91512361.28916301</td>\n",
       "        </tr>\n",
       "        <tr>\n",
       "            <td>16124</td>\n",
       "            <td>89823314.91858824</td>\n",
       "        </tr>\n",
       "    </tbody>\n",
       "</table>"
      ],
      "text/plain": [
       "[(66811, 95439814.56911525),\n",
       " (41694, 94001184.5151855),\n",
       " (32684, 93336604.17676324),\n",
       " (3350, 93069791.09934558),\n",
       " (55217, 91512361.28916301),\n",
       " (16124, 89823314.91858824)]"
      ]
     },
     "execution_count": 13,
     "metadata": {},
     "output_type": "execute_result"
    }
   ],
   "source": [
    "%%sql\n",
    "select \n",
    "     video_id\n",
    "    ,sum(plays) plays\n",
    "from monthly_video_plays\n",
    "where\n",
    "creator_id=12\n",
    "group by 1\n",
    "order by 2 desc"
   ]
  },
  {
   "cell_type": "markdown",
   "id": "d6d63a9c",
   "metadata": {},
   "source": [
    "## Summary for most streaming creator\n",
    "Used as custom SQL in Tableau"
   ]
  },
  {
   "cell_type": "code",
   "execution_count": 17,
   "id": "262d5b14",
   "metadata": {},
   "outputs": [
    {
     "name": "stdout",
     "output_type": "stream",
     "text": [
      "10 rows affected.\n"
     ]
    },
    {
     "data": {
      "text/html": [
       "<table>\n",
       "    <thead>\n",
       "        <tr>\n",
       "            <th>creator_id</th>\n",
       "            <th>name</th>\n",
       "            <th>views</th>\n",
       "        </tr>\n",
       "    </thead>\n",
       "    <tbody>\n",
       "        <tr>\n",
       "            <td>5310</td>\n",
       "            <td>Vincent Hunter</td>\n",
       "            <td>99998812.0</td>\n",
       "        </tr>\n",
       "        <tr>\n",
       "            <td>1768</td>\n",
       "            <td>Aidan Michael</td>\n",
       "            <td>99980059.0</td>\n",
       "        </tr>\n",
       "        <tr>\n",
       "            <td>9896</td>\n",
       "            <td>Eliyahu Brendan</td>\n",
       "            <td>99927342.0</td>\n",
       "        </tr>\n",
       "        <tr>\n",
       "            <td>240</td>\n",
       "            <td>Hamza Sophia</td>\n",
       "            <td>99872651.0</td>\n",
       "        </tr>\n",
       "        <tr>\n",
       "            <td>9651</td>\n",
       "            <td>Ibrahim Neymar</td>\n",
       "            <td>99771242.0</td>\n",
       "        </tr>\n",
       "        <tr>\n",
       "            <td>5551</td>\n",
       "            <td>Mendy Aria</td>\n",
       "            <td>99716709.0</td>\n",
       "        </tr>\n",
       "        <tr>\n",
       "            <td>5469</td>\n",
       "            <td>Sophia Grant</td>\n",
       "            <td>99633393.0</td>\n",
       "        </tr>\n",
       "        <tr>\n",
       "            <td>1226</td>\n",
       "            <td>Nico Giselle</td>\n",
       "            <td>99543587.0</td>\n",
       "        </tr>\n",
       "        <tr>\n",
       "            <td>9823</td>\n",
       "            <td>Luke Axel</td>\n",
       "            <td>99540864.0</td>\n",
       "        </tr>\n",
       "        <tr>\n",
       "            <td>8170</td>\n",
       "            <td>Lipa Ella</td>\n",
       "            <td>99388638.0</td>\n",
       "        </tr>\n",
       "    </tbody>\n",
       "</table>"
      ],
      "text/plain": [
       "[(5310, 'Vincent Hunter', 99998812.0),\n",
       " (1768, 'Aidan Michael', 99980059.0),\n",
       " (9896, 'Eliyahu Brendan', 99927342.0),\n",
       " (240, 'Hamza Sophia', 99872651.0),\n",
       " (9651, 'Ibrahim Neymar', 99771242.0),\n",
       " (5551, 'Mendy Aria', 99716709.0),\n",
       " (5469, 'Sophia Grant', 99633393.0),\n",
       " (1226, 'Nico Giselle', 99543587.0),\n",
       " (9823, 'Luke Axel', 99540864.0),\n",
       " (8170, 'Lipa Ella', 99388638.0)]"
      ]
     },
     "execution_count": 17,
     "metadata": {},
     "output_type": "execute_result"
    }
   ],
   "source": [
    "%%sql\n",
    "select \n",
    "     creator_id\n",
    "    ,name\n",
    "    ,sum(views) views\n",
    "from creators\n",
    "where\n",
    "creator_id!=12\n",
    "and creator_category=(select creator_category from creators where creator_id=12)\n",
    "group by 1,2\n",
    "order by 3 desc\n",
    "limit 10"
   ]
  },
  {
   "cell_type": "markdown",
   "id": "b483a350",
   "metadata": {},
   "source": [
    "## Service Monthly Plays\n",
    "Creating a monthly service level aggregate to display overall service engagement."
   ]
  },
  {
   "cell_type": "code",
   "execution_count": 9,
   "id": "02d35c63",
   "metadata": {},
   "outputs": [
    {
     "name": "stdout",
     "output_type": "stream",
     "text": [
      "Done.\n",
      "51336 rows affected.\n"
     ]
    },
    {
     "data": {
      "text/plain": [
       "[]"
      ]
     },
     "execution_count": 9,
     "metadata": {},
     "output_type": "execute_result"
    }
   ],
   "source": [
    "%%sql \n",
    "drop table if exists service_monthly_plays;\n",
    "create table service_monthly_plays as\n",
    "select \n",
    "     playback_month\n",
    "    ,viewer_country_code\n",
    "    ,platform\n",
    "    ,context\n",
    "    ,creator_category\n",
    "    ,sum(p.videos) videos\n",
    "    ,sum(p.plays) plays\n",
    "from \n",
    "    creator_monthly_plays p\n",
    "    inner join creators c\n",
    "        on p.creator_id=c.creator_id\n",
    "group by 1,2,3,4,5\n"
   ]
  },
  {
   "cell_type": "code",
   "execution_count": null,
   "id": "217007a4",
   "metadata": {},
   "outputs": [],
   "source": []
  }
 ],
 "metadata": {
  "kernelspec": {
   "display_name": "Python 3 (ipykernel)",
   "language": "python",
   "name": "python3"
  },
  "language_info": {
   "codemirror_mode": {
    "name": "ipython",
    "version": 3
   },
   "file_extension": ".py",
   "mimetype": "text/x-python",
   "name": "python",
   "nbconvert_exporter": "python",
   "pygments_lexer": "ipython3",
   "version": "3.11.5"
  }
 },
 "nbformat": 4,
 "nbformat_minor": 5
}
